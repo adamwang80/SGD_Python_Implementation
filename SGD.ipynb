{
  "nbformat": 4,
  "nbformat_minor": 0,
  "metadata": {
    "colab": {
      "provenance": []
    },
    "kernelspec": {
      "name": "python3",
      "display_name": "Python 3"
    },
    "language_info": {
      "name": "python"
    },
    "accelerator": "GPU"
  },
  "cells": [
    {
      "cell_type": "markdown",
      "source": [
        "# Project: Stochastic Gradient Descent\n",
        "**Authors: Adam Wang, Hangxiao Zhu**"
      ],
      "metadata": {
        "id": "zUMKG-UuL9rz"
      }
    },
    {
      "cell_type": "markdown",
      "source": [
        "## Generate data"
      ],
      "metadata": {
        "id": "yKmVbdYPbdwn"
      }
    },
    {
      "cell_type": "markdown",
      "source": [
        "**Data Distribution D:** In practice, the data distribution is usually unknown. However, since you will be asked to generate training and test examples for the sake of running your experiments, we will describe a data distribution from which examples will be generated for each scenario. (Nevertheless, note that the SGD learner should remain oblivious to the distribution). Each example (x, y) is generated as follows:\n",
        "\n",
        "\n",
        "*   with probability 1/2, set y = −1 and generate a (d−1)-dimensional Gaussian \n",
        "vector u ∼ N(μ0, σ2Id−1) where μ0 = (−1/4, −1/4, −1/4, −1/4) and Id−1 is the identity matrix of rank d − 1, that is, u is composed of 4 i.i.d. Gaussian components, each of mean −1/4 and variance σ2 (σ will be specified later).\n",
        "*   with the remaining probability, set y = 1 and generate u ∼ N (μ1, σ2Id−1) where μ1 = (1/4, 1/4, 1/4, 1/4)."
      ],
      "metadata": {
        "id": "LgBg-Sx8dFBV"
      }
    },
    {
      "cell_type": "code",
      "source": [
        "import numpy as np"
      ],
      "metadata": {
        "id": "M2pzoltZbdjd"
      },
      "execution_count": null,
      "outputs": []
    },
    {
      "cell_type": "code",
      "source": [
        "def generate_data(size, sigma):\n",
        "  data = np.zeros((4,size))\n",
        "  labels = np.zeros((1,size))\n",
        "  for x in range(0,size):\n",
        "    if np.random.rand() > 0.5:\n",
        "      data.T[x] = euclidean_projection(np.array([np.random.normal(-1/4, sigma),np.random.normal(-1/4, sigma),np.random.normal(-1/4, sigma),np.random.normal(-1/4, sigma)]))\n",
        "      labels.T[x] = -1\n",
        "    else:\n",
        "      data.T[x] = euclidean_projection(np.array([np.random.normal(1/4, sigma),np.random.normal(1/4, sigma),np.random.normal(1/4, sigma),np.random.normal(1/4, sigma)]))\n",
        "      labels.T[x] = 1\n",
        "  data = np.vstack((np.ones((1,size)), data))\n",
        "  return data, labels"
      ],
      "metadata": {
        "id": "lFnNRqAEUm2N"
      },
      "execution_count": null,
      "outputs": []
    },
    {
      "cell_type": "markdown",
      "source": [
        "Then, set x = ΠX(u) where ΠX is the Euclidean projection on to X,that is,u generated above is projected onto X (in case it lies outside X) and the resulting vector is denoted as x, which represents the feature vector."
      ],
      "metadata": {
        "id": "wBBRKD9zshgR"
      }
    },
    {
      "cell_type": "code",
      "source": [
        "def euclidean_projection(u):\n",
        "  size = u.size\n",
        "  origin = np.zeros(size)\n",
        "  distance = np.linalg.norm(u - origin)\n",
        "  x = u\n",
        "  if distance > 1:\n",
        "    x = u / np.linalg.norm(u)\n",
        "  return x"
      ],
      "metadata": {
        "id": "mBYNQonlshFE"
      },
      "execution_count": null,
      "outputs": []
    },
    {
      "cell_type": "markdown",
      "source": [
        "## SGD Implementation"
      ],
      "metadata": {
        "id": "N3LXEmE5lVFo"
      }
    },
    {
      "cell_type": "code",
      "source": [
        "TESTING_SIZE = 400"
      ],
      "metadata": {
        "id": "AEeWSCHNgdiS"
      },
      "execution_count": null,
      "outputs": []
    },
    {
      "cell_type": "code",
      "source": [
        "def logistic_loss(w, x, y): \n",
        "  return np.log(1 + np.exp(-y * np.dot(w, x)))"
      ],
      "metadata": {
        "id": "HaRLxHg_aUcX"
      },
      "execution_count": null,
      "outputs": []
    },
    {
      "cell_type": "code",
      "source": [
        "def logistic_loss_gradient(w, x, y):\n",
        "  return (-y * x * np.exp(-y * np.dot(w, x))) / (1 + np.exp(-y * np.dot(w, x)))"
      ],
      "metadata": {
        "id": "mJ5GxWO2kvKc"
      },
      "execution_count": null,
      "outputs": []
    },
    {
      "cell_type": "markdown",
      "source": [
        "logistic_loss is convex and ||x||-Lipschitz\n",
        "\n",
        "ρ = 5, M = ln(1+e^5)"
      ],
      "metadata": {
        "id": "T1kUEZf4RcO_"
      }
    },
    {
      "cell_type": "code",
      "source": [
        "def SGD(data, labels, T, eta):\n",
        "  w = np.zeros((T, 5))\n",
        "  for t in range(0,T-1):\n",
        "    i = np.random.randint(data.shape[1])\n",
        "    G = logistic_loss_gradient(w[t], data.T[i], labels.T[i])\n",
        "    w[t+1] = euclidean_projection((w[t].reshape(1,5) - eta*G))\n",
        "  return np.mean(w, axis=0)"
      ],
      "metadata": {
        "id": "mJiZubyoQF5V"
      },
      "execution_count": null,
      "outputs": []
    },
    {
      "cell_type": "code",
      "source": [
        "def run(data, labels, T, eta, trials, training_size, sigma, testing_data, testing_labels):\n",
        "  training_data, training_labels = generate_data(training_size, sigma)  \n",
        "  w = np.zeros((trials, 5))\n",
        "  mean_loss = np.zeros((trials, 1))\n",
        "  std_loss = np.zeros((trials, 1))\n",
        "  min_loss = np.zeros((trials, 1))\n",
        "  classification_error = np.zeros((trials, 1))\n",
        "\n",
        "  for i in range(0,trials):\n",
        "    w[i] = SGD(data, labels, T, eta)\n",
        "    traing_loss = logistic_loss(w[i], training_data, training_labels)\n",
        "    testing_loss = logistic_loss(w[i], testing_data, testing_labels)\n",
        "    mean_loss[i] = np.average(testing_loss)\n",
        "    std_loss[i] = np.std(testing_loss)\n",
        "    min_loss[i] = np.min(testing_loss)\n",
        "\n",
        "    temp = np.sign(np.dot(w0, testing_data)) - testing_labels\n",
        "    errors = np.where(temp == 0, temp, 1)\n",
        "    classification_error[i] = np.average(errors)\n",
        "\n",
        "  return np.mean(mean_loss), np.mean(std_loss), np.mean(min_loss), np.mean(std_loss-min_loss), np.mean(classification_error), np.std(classification_error)"
      ],
      "metadata": {
        "id": "-UnkBiCwdbxC"
      },
      "execution_count": null,
      "outputs": []
    },
    {
      "cell_type": "markdown",
      "source": [
        "### sigma=0.1, n=50"
      ],
      "metadata": {
        "id": "Rj8ARIWkX58P"
      }
    },
    {
      "cell_type": "code",
      "source": [
        "testing_data, testing_labels = generate_data(TESTING_SIZE, 0.1)"
      ],
      "metadata": {
        "id": "cDpATOpfhI8C"
      },
      "execution_count": null,
      "outputs": []
    },
    {
      "cell_type": "code",
      "source": [
        "training_data, training_labels = generate_data(400, 0.1)"
      ],
      "metadata": {
        "id": "egegcSP_UtzM"
      },
      "execution_count": null,
      "outputs": []
    },
    {
      "cell_type": "code",
      "source": [
        "w0 = SGD(training_data, training_labels, 10, 0.1)\n",
        "w0"
      ],
      "metadata": {
        "colab": {
          "base_uri": "https://localhost:8080/"
        },
        "id": "CG8b_IiFUtiG",
        "outputId": "a577c4bd-c4f9-4001-bae3-6af5fff420b8"
      },
      "execution_count": null,
      "outputs": [
        {
          "output_type": "execute_result",
          "data": {
            "text/plain": [
              "array([-0.04134415,  0.05170143,  0.05421373,  0.06070722,  0.05240799])"
            ]
          },
          "metadata": {},
          "execution_count": 59
        }
      ]
    },
    {
      "cell_type": "code",
      "source": [
        "testing_data, testing_labels = generate_data(50, 0.1)"
      ],
      "metadata": {
        "id": "PpYpXV4uZES4"
      },
      "execution_count": null,
      "outputs": []
    },
    {
      "cell_type": "code",
      "source": [
        "empirical_loss = logistic_loss(w0, training_data, training_labels)\n",
        "np.average(empirical_loss)"
      ],
      "metadata": {
        "colab": {
          "base_uri": "https://localhost:8080/"
        },
        "id": "w3Pi6WKXZU8D",
        "outputId": "c5ae29fa-21ac-471f-8a1e-20b839849f4d"
      },
      "execution_count": null,
      "outputs": [
        {
          "output_type": "execute_result",
          "data": {
            "text/plain": [
              "0.6669848824726572"
            ]
          },
          "metadata": {},
          "execution_count": 61
        }
      ]
    },
    {
      "cell_type": "code",
      "source": [
        "testing_loss = logistic_loss(w0, testing_data, testing_labels)\n",
        "np.average(testing_loss)"
      ],
      "metadata": {
        "colab": {
          "base_uri": "https://localhost:8080/"
        },
        "id": "JOpnJDaSZuAV",
        "outputId": "a4721dd8-e5b7-4f3e-ab37-0f28f1e156c2"
      },
      "execution_count": null,
      "outputs": [
        {
          "output_type": "execute_result",
          "data": {
            "text/plain": [
              "0.6683421971356942"
            ]
          },
          "metadata": {},
          "execution_count": 62
        }
      ]
    },
    {
      "cell_type": "code",
      "source": [
        "np.sign(np.dot(w0,testing_data))-testing_labels"
      ],
      "metadata": {
        "colab": {
          "base_uri": "https://localhost:8080/"
        },
        "id": "tAd8ImoGbBVb",
        "outputId": "42e57217-72b8-4754-ec71-ba95ee52b51f"
      },
      "execution_count": null,
      "outputs": [
        {
          "output_type": "execute_result",
          "data": {
            "text/plain": [
              "array([[ 0.,  0.,  0.,  0.,  0.,  0.,  0.,  0.,  0.,  0.,  0.,  0.,  0.,\n",
              "         0.,  0.,  0.,  0.,  0.,  0.,  0.,  0.,  0.,  0.,  0.,  0., -2.,\n",
              "         0., -2.,  0.,  0.,  0.,  0.,  0.,  0.,  0.,  0.,  0.,  0.,  0.,\n",
              "         0.,  0.,  0.,  0.,  0.,  0.,  0.,  0.,  0.,  0.,  0.]])"
            ]
          },
          "metadata": {},
          "execution_count": 63
        }
      ]
    },
    {
      "cell_type": "code",
      "source": [],
      "metadata": {
        "id": "TyksnMMub2G_"
      },
      "execution_count": null,
      "outputs": []
    }
  ]
}